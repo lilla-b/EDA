{
 "cells": [
  {
   "cell_type": "markdown",
   "id": "b7de48d0",
   "metadata": {},
   "source": [
    "## Exploratory Data Analysis Project\n"
   ]
  },
  {
   "cell_type": "markdown",
   "id": "0a84a5c1",
   "metadata": {},
   "source": [
    "Data was sourced from openFDA - the US Food and Drug Administration (USFDA) API. We selected animal and veterinary API endpoints. The available API was the Adverse Event Report. We selected data on a small set of attributes of cats, recorded from 1987-2021. \n",
    "\n",
    "We obtained an API key, defined a base url, an made API calls. The output was converted to json format. The initial data retrieved had lots of missing data, so we decided to focus on specific breed. The key was not used for most of the data retrieval. We created a loop to obtain all 500 distinct records. Records were stored in a dataframe and also saved as a .csv file.\n",
    "\n",
    "We identified the top three drugs reported to cause adverse reactions: Selamectin, Spinosad, and Fluralaner Spot-On Solution. We also explored associations between breed, gender, age, drug, and outcome. \n"
   ]
  },
  {
   "cell_type": "markdown",
   "id": "18433b89",
   "metadata": {},
   "source": [
    "### Retrieving data and creating dataframe"
   ]
  },
  {
   "cell_type": "code",
   "execution_count": 1,
   "id": "092c3521",
   "metadata": {},
   "outputs": [],
   "source": [
    "#Setting dependencies\n",
    "\n",
    "import numpy as np\n",
    "import pandas as pd\n",
    "\n",
    "import json\n",
    "import requests\n",
    "import time\n",
    "\n",
    "import matplotlib.pyplot as plt\n",
    "from pandas.plotting import table\n",
    "from pprint import pprint\n",
    "import seaborn as sns\n",
    "\n",
    "# Import API key\n",
    "\n",
    "from api_keys import api_key"
   ]
  },
  {
   "cell_type": "code",
   "execution_count": 2,
   "id": "3154c806",
   "metadata": {},
   "outputs": [],
   "source": [
    "# adding api_key to base url to obtain FDA information \n",
    "base_url = \"https://api.fda.gov/drug/event.json?api_key=\" + api_key\n",
    "\n",
    "# changing the output to json \n",
    "req = requests.get(base_url)\n",
    "data = req.json()\n",
    "\n",
    "#print the data to show something is returned\n",
    "#print(data)"
   ]
  },
  {
   "cell_type": "code",
   "execution_count": 3,
   "id": "b46588e7",
   "metadata": {},
   "outputs": [
    {
     "name": "stdout",
     "output_type": "stream",
     "text": [
      "{'gender': ['Male'], 'age': ['10.00'], 'weight': ['6.350'], 'breed': ['Domestic Shorthair'], 'drug': ['Spinosad'], 'outcome': ['Recovered/Normal'], 'date_in': ['20170508']}\n"
     ]
    }
   ],
   "source": [
    "#creating empty dictionary to store extracted data\n",
    "\n",
    "cats_data = {'gender':[],\n",
    "                'age':[],\n",
    "                'weight':[],\n",
    "                'breed':[],\n",
    "                'drug':[],\n",
    "                'outcome':[],\n",
    "                'date_in':[]}\n",
    "\n",
    "#verifying search on Cat species and positioning on breed work correctly \n",
    "\n",
    "base_url = \"https://api.fda.gov/animalandveterinary/event.json?search=animal.species=Cat+animal.breed.breed_component='Domestic Shorthair'\"\n",
    "req = requests.get(base_url)\n",
    "data = req.json()\n",
    "\n",
    "#add 1 row to the cats_data dictionary with information extracted - limit for this api call is 1 result\n",
    "\n",
    "cats_data['gender'].append(data['results'][0]['animal']['gender'])\n",
    "cats_data['age'].append(data['results'][0]['animal']['age']['min'])\n",
    "cats_data['weight'].append(data['results'][0]['animal']['weight']['min'])\n",
    "cats_data['breed'].append(data['results'][0]['animal']['breed']['breed_component'])\n",
    "cats_data['drug'].append(data['results'][0]['drug'][0]['active_ingredients'][0]['name'])\n",
    "cats_data['outcome'].append(data['results'][0]['outcome'][0]['medical_status'])\n",
    "cats_data['date_in'].append(data['results'][0]['original_receive_date'])\n",
    "\n",
    "print(cats_data)"
   ]
  },
  {
   "cell_type": "code",
   "execution_count": 4,
   "id": "5c6c3e94",
   "metadata": {},
   "outputs": [],
   "source": [
    "# This url returns only the first match, so we used a loop to skip entries and pick up another one.otherwise the \n",
    "# same one is returned every time.\n",
    "# Returning 500 results runs for a bit of time\n",
    "\n",
    "cats_data = {'gender':[],\n",
    "                'age':[],\n",
    "                'weight':[],\n",
    "                'breed':[],\n",
    "                'drug':[],\n",
    "                'outcome':[],\n",
    "                'date_in':[]}\n",
    "base_url = \"https://api.fda.gov/animalandveterinary/event.json?search=animal.species=Cat+(animal.breed.breed_component='Domestic Shorthair'+OR+animal.breed.breed_component='Domestic Longhair')\"\n",
    "\n",
    "# NB: It turns out that the API key was unnecessary - the + api_key part of the call was not copied, and the call was successful. These data were extracted without using the key.\n",
    "\n",
    "counter = 1\n",
    "for i in range(500):\n",
    "    req = requests.get(base_url)\n",
    "    data = req.json()\n",
    "\n",
    "    #validate the data, if age and weight don't exist, replace with 0. If outcome, gender, breed, and drug\n",
    "    #don't exist, replace with 'Unknown'. If original_receive_date doesn't exist, replace with nan.\n",
    "    try:\n",
    "        cats_data['age'].append(data['results'][0]['animal']['age']['min'])\n",
    "    except:\n",
    "        cats_data['age'].append('0')\n",
    "    \n",
    "    try:\n",
    "        cats_data['weight'].append(data['results'][0]['animal']['weight']['min'])\n",
    "    except:\n",
    "        cats_data['weight'].append('0')\n",
    "\n",
    "    try:\n",
    "        cats_data['outcome'].append(data['results'][0]['outcome'][0]['medical_status'])\n",
    "    except:\n",
    "        cats_data['outcome'].append('Unknown')\n",
    "    \n",
    "    try:\n",
    "        cats_data['date_in'].append(data['results'][0]['original_receive_date'])\n",
    "    except:\n",
    "        cats_data['date_in'].append(np.nan)\n",
    "\n",
    "    try:\n",
    "        cats_data['gender'].append(data['results'][0]['animal']['gender'])\n",
    "    except:\n",
    "        cats_data['gender'].append('Unknown')\n",
    "    \n",
    "    try:\n",
    "        cats_data['breed'].append(data['results'][0]['animal']['breed']['breed_component'])\n",
    "    except:\n",
    "        cats_data['breed'].append('Unknown')\n",
    "    \n",
    "    try:\n",
    "        cats_data['drug'].append(data['results'][0]['drug'][0]['active_ingredients'][0]['name'])\n",
    "    except:\n",
    "        cats_data['drug'].append('Unknown')\n",
    "          \n",
    "    counter +=1\n",
    "    #counter is converted to a string and used as a skip value for gathering random records\n",
    "    str_count = str(counter)\n",
    "    base_url = \"https://api.fda.gov/animalandveterinary/event.json?search=animal.species=Cat+(animal.breed.breed_component='Domestic Shorthair'+OR+animal.breed.breed_component='Domestic Longhair')&skip=\" + str_count\n",
    "    "
   ]
  },
  {
   "cell_type": "code",
   "execution_count": 5,
   "id": "133d59ac",
   "metadata": {},
   "outputs": [
    {
     "name": "stdout",
     "output_type": "stream",
     "text": [
      "<class 'pandas.core.frame.DataFrame'>\n",
      "RangeIndex: 500 entries, 0 to 499\n",
      "Data columns (total 7 columns):\n",
      " #   Column   Non-Null Count  Dtype \n",
      "---  ------   --------------  ----- \n",
      " 0   gender   500 non-null    object\n",
      " 1   age      500 non-null    object\n",
      " 2   weight   500 non-null    object\n",
      " 3   breed    500 non-null    object\n",
      " 4   drug     500 non-null    object\n",
      " 5   outcome  500 non-null    object\n",
      " 6   date_in  500 non-null    object\n",
      "dtypes: object(7)\n",
      "memory usage: 27.5+ KB\n"
     ]
    }
   ],
   "source": [
    "# converting the raw data in the cats dictionary to a dataframe and writing it out to a csv file\n",
    "\n",
    "cat_df = pd.DataFrame.from_dict(cats_data)\n",
    "cat_df.to_csv(\"cat_data.csv\")\n",
    "\n",
    "#print the info of the dataframe\n",
    "\n",
    "cat_df.info()"
   ]
  },
  {
   "cell_type": "markdown",
   "id": "109af44b",
   "metadata": {},
   "source": [
    "#### Modifying datatypes for analysis"
   ]
  },
  {
   "cell_type": "code",
   "execution_count": 6,
   "id": "15583ad2",
   "metadata": {},
   "outputs": [
    {
     "name": "stdout",
     "output_type": "stream",
     "text": [
      "<class 'pandas.core.frame.DataFrame'>\n",
      "RangeIndex: 500 entries, 0 to 499\n",
      "Data columns (total 7 columns):\n",
      " #   Column   Non-Null Count  Dtype  \n",
      "---  ------   --------------  -----  \n",
      " 0   gender   500 non-null    object \n",
      " 1   age      500 non-null    float64\n",
      " 2   weight   500 non-null    float64\n",
      " 3   breed    500 non-null    object \n",
      " 4   drug     500 non-null    object \n",
      " 5   outcome  500 non-null    object \n",
      " 6   date_in  500 non-null    object \n",
      "dtypes: float64(2), object(5)\n",
      "memory usage: 27.5+ KB\n"
     ]
    }
   ],
   "source": [
    "#converting the age and weight columns to numerics (floats)\n",
    "\n",
    "cat_df[[\"age\", \"weight\"]] = cat_df[[\"age\", \"weight\"]].apply(pd.to_numeric)\n",
    "cat_df.info()"
   ]
  },
  {
   "cell_type": "code",
   "execution_count": 7,
   "id": "b2ec9a73",
   "metadata": {},
   "outputs": [
    {
     "data": {
      "text/html": [
       "<div>\n",
       "<style scoped>\n",
       "    .dataframe tbody tr th:only-of-type {\n",
       "        vertical-align: middle;\n",
       "    }\n",
       "\n",
       "    .dataframe tbody tr th {\n",
       "        vertical-align: top;\n",
       "    }\n",
       "\n",
       "    .dataframe thead th {\n",
       "        text-align: right;\n",
       "    }\n",
       "</style>\n",
       "<table border=\"1\" class=\"dataframe\">\n",
       "  <thead>\n",
       "    <tr style=\"text-align: right;\">\n",
       "      <th></th>\n",
       "      <th>gender</th>\n",
       "      <th>age</th>\n",
       "      <th>weight</th>\n",
       "      <th>breed</th>\n",
       "      <th>drug</th>\n",
       "      <th>outcome</th>\n",
       "      <th>Year</th>\n",
       "    </tr>\n",
       "  </thead>\n",
       "  <tbody>\n",
       "    <tr>\n",
       "      <th>0</th>\n",
       "      <td>Male</td>\n",
       "      <td>10.0</td>\n",
       "      <td>6.350</td>\n",
       "      <td>Domestic Shorthair</td>\n",
       "      <td>Spinosad</td>\n",
       "      <td>Recovered/Normal</td>\n",
       "      <td>2017</td>\n",
       "    </tr>\n",
       "    <tr>\n",
       "      <th>1</th>\n",
       "      <td>Female</td>\n",
       "      <td>12.0</td>\n",
       "      <td>3.130</td>\n",
       "      <td>Domestic Shorthair</td>\n",
       "      <td>Cefovecin</td>\n",
       "      <td>Ongoing</td>\n",
       "      <td>2017</td>\n",
       "    </tr>\n",
       "    <tr>\n",
       "      <th>2</th>\n",
       "      <td>Male</td>\n",
       "      <td>1.0</td>\n",
       "      <td>4.309</td>\n",
       "      <td>Domestic Shorthair</td>\n",
       "      <td>Spinosad</td>\n",
       "      <td>Recovered/Normal</td>\n",
       "      <td>2018</td>\n",
       "    </tr>\n",
       "    <tr>\n",
       "      <th>3</th>\n",
       "      <td>Female</td>\n",
       "      <td>9.0</td>\n",
       "      <td>0.000</td>\n",
       "      <td>Domestic Shorthair</td>\n",
       "      <td>Imidacloprid</td>\n",
       "      <td>Outcome Unknown</td>\n",
       "      <td>2019</td>\n",
       "    </tr>\n",
       "    <tr>\n",
       "      <th>4</th>\n",
       "      <td>Male</td>\n",
       "      <td>5.0</td>\n",
       "      <td>6.577</td>\n",
       "      <td>Domestic Shorthair</td>\n",
       "      <td>Maropitant Citrate</td>\n",
       "      <td>Ongoing</td>\n",
       "      <td>2019</td>\n",
       "    </tr>\n",
       "    <tr>\n",
       "      <th>5</th>\n",
       "      <td>Male</td>\n",
       "      <td>2.0</td>\n",
       "      <td>5.897</td>\n",
       "      <td>Domestic Shorthair</td>\n",
       "      <td>Fluralaner Spot-On Solution</td>\n",
       "      <td>Ongoing</td>\n",
       "      <td>2019</td>\n",
       "    </tr>\n",
       "    <tr>\n",
       "      <th>6</th>\n",
       "      <td>Male</td>\n",
       "      <td>8.0</td>\n",
       "      <td>8.845</td>\n",
       "      <td>Domestic Longhair</td>\n",
       "      <td>Spinosad</td>\n",
       "      <td>Recovered/Normal</td>\n",
       "      <td>2019</td>\n",
       "    </tr>\n",
       "    <tr>\n",
       "      <th>7</th>\n",
       "      <td>Unknown</td>\n",
       "      <td>0.0</td>\n",
       "      <td>0.000</td>\n",
       "      <td>Cat (unknown)</td>\n",
       "      <td>Imidacloprid</td>\n",
       "      <td>Recovered/Normal</td>\n",
       "      <td>2021</td>\n",
       "    </tr>\n",
       "    <tr>\n",
       "      <th>8</th>\n",
       "      <td>Male</td>\n",
       "      <td>9.0</td>\n",
       "      <td>4.309</td>\n",
       "      <td>Domestic Shorthair</td>\n",
       "      <td>Fluralaner Spot-On Solution</td>\n",
       "      <td>Ongoing</td>\n",
       "      <td>2020</td>\n",
       "    </tr>\n",
       "    <tr>\n",
       "      <th>9</th>\n",
       "      <td>Female</td>\n",
       "      <td>11.0</td>\n",
       "      <td>2.722</td>\n",
       "      <td>Cat (unknown)</td>\n",
       "      <td>Imidacloprid</td>\n",
       "      <td>Outcome Unknown</td>\n",
       "      <td>2021</td>\n",
       "    </tr>\n",
       "    <tr>\n",
       "      <th>10</th>\n",
       "      <td>Unknown</td>\n",
       "      <td>0.0</td>\n",
       "      <td>0.000</td>\n",
       "      <td>Cat (unknown)</td>\n",
       "      <td>Praziquantel</td>\n",
       "      <td>Outcome Unknown</td>\n",
       "      <td>2021</td>\n",
       "    </tr>\n",
       "    <tr>\n",
       "      <th>11</th>\n",
       "      <td>Male</td>\n",
       "      <td>8.0</td>\n",
       "      <td>4.540</td>\n",
       "      <td>Domestic Longhair</td>\n",
       "      <td>Spinosad</td>\n",
       "      <td>Recovered/Normal</td>\n",
       "      <td>2012</td>\n",
       "    </tr>\n",
       "    <tr>\n",
       "      <th>12</th>\n",
       "      <td>Unknown</td>\n",
       "      <td>0.0</td>\n",
       "      <td>3.180</td>\n",
       "      <td>Cat (unknown)</td>\n",
       "      <td>Griseofulvin</td>\n",
       "      <td>Unknown</td>\n",
       "      <td>1996</td>\n",
       "    </tr>\n",
       "    <tr>\n",
       "      <th>13</th>\n",
       "      <td>Female</td>\n",
       "      <td>2.0</td>\n",
       "      <td>2.720</td>\n",
       "      <td>Domestic Shorthair</td>\n",
       "      <td>Selamectin</td>\n",
       "      <td>Outcome Unknown</td>\n",
       "      <td>2012</td>\n",
       "    </tr>\n",
       "    <tr>\n",
       "      <th>14</th>\n",
       "      <td>Male</td>\n",
       "      <td>7.0</td>\n",
       "      <td>5.400</td>\n",
       "      <td>Domestic Longhair</td>\n",
       "      <td>Pradofloxacin</td>\n",
       "      <td>Recovered/Normal</td>\n",
       "      <td>2013</td>\n",
       "    </tr>\n",
       "  </tbody>\n",
       "</table>\n",
       "</div>"
      ],
      "text/plain": [
       "     gender   age  weight               breed                         drug  \\\n",
       "0      Male  10.0   6.350  Domestic Shorthair                     Spinosad   \n",
       "1    Female  12.0   3.130  Domestic Shorthair                    Cefovecin   \n",
       "2      Male   1.0   4.309  Domestic Shorthair                     Spinosad   \n",
       "3    Female   9.0   0.000  Domestic Shorthair                 Imidacloprid   \n",
       "4      Male   5.0   6.577  Domestic Shorthair           Maropitant Citrate   \n",
       "5      Male   2.0   5.897  Domestic Shorthair  Fluralaner Spot-On Solution   \n",
       "6      Male   8.0   8.845   Domestic Longhair                     Spinosad   \n",
       "7   Unknown   0.0   0.000       Cat (unknown)                 Imidacloprid   \n",
       "8      Male   9.0   4.309  Domestic Shorthair  Fluralaner Spot-On Solution   \n",
       "9    Female  11.0   2.722       Cat (unknown)                 Imidacloprid   \n",
       "10  Unknown   0.0   0.000       Cat (unknown)                 Praziquantel   \n",
       "11     Male   8.0   4.540   Domestic Longhair                     Spinosad   \n",
       "12  Unknown   0.0   3.180       Cat (unknown)                 Griseofulvin   \n",
       "13   Female   2.0   2.720  Domestic Shorthair                   Selamectin   \n",
       "14     Male   7.0   5.400   Domestic Longhair                Pradofloxacin   \n",
       "\n",
       "             outcome  Year  \n",
       "0   Recovered/Normal  2017  \n",
       "1            Ongoing  2017  \n",
       "2   Recovered/Normal  2018  \n",
       "3    Outcome Unknown  2019  \n",
       "4            Ongoing  2019  \n",
       "5            Ongoing  2019  \n",
       "6   Recovered/Normal  2019  \n",
       "7   Recovered/Normal  2021  \n",
       "8            Ongoing  2020  \n",
       "9    Outcome Unknown  2021  \n",
       "10   Outcome Unknown  2021  \n",
       "11  Recovered/Normal  2012  \n",
       "12           Unknown  1996  \n",
       "13   Outcome Unknown  2012  \n",
       "14  Recovered/Normal  2013  "
      ]
     },
     "execution_count": 7,
     "metadata": {},
     "output_type": "execute_result"
    }
   ],
   "source": [
    "# Extracting the year from the intake date\n",
    "\n",
    "cat_df[\"date_in\"] = pd.to_datetime(cat_df[\"date_in\"])\n",
    "cat_df[\"Year\"] = cat_df['date_in'].dt.year\n",
    "\n",
    "# Dropping intake date column\n",
    "\n",
    "cat_df.drop('date_in', axis=1, inplace=True)\n",
    "cat_df.head(15)"
   ]
  },
  {
   "cell_type": "code",
   "execution_count": 8,
   "id": "a45976fe",
   "metadata": {},
   "outputs": [
    {
     "data": {
      "text/html": [
       "<div>\n",
       "<style scoped>\n",
       "    .dataframe tbody tr th:only-of-type {\n",
       "        vertical-align: middle;\n",
       "    }\n",
       "\n",
       "    .dataframe tbody tr th {\n",
       "        vertical-align: top;\n",
       "    }\n",
       "\n",
       "    .dataframe thead th {\n",
       "        text-align: right;\n",
       "    }\n",
       "</style>\n",
       "<table border=\"1\" class=\"dataframe\">\n",
       "  <thead>\n",
       "    <tr style=\"text-align: right;\">\n",
       "      <th></th>\n",
       "      <th>Gender</th>\n",
       "      <th>Age_y</th>\n",
       "      <th>Weight_kg</th>\n",
       "      <th>Breed</th>\n",
       "      <th>Drug</th>\n",
       "      <th>Status</th>\n",
       "      <th>Year</th>\n",
       "    </tr>\n",
       "  </thead>\n",
       "  <tbody>\n",
       "    <tr>\n",
       "      <th>0</th>\n",
       "      <td>Male</td>\n",
       "      <td>10.0</td>\n",
       "      <td>6.350</td>\n",
       "      <td>Domestic Shorthair</td>\n",
       "      <td>Spinosad</td>\n",
       "      <td>Recovered/Normal</td>\n",
       "      <td>2017</td>\n",
       "    </tr>\n",
       "    <tr>\n",
       "      <th>1</th>\n",
       "      <td>Female</td>\n",
       "      <td>12.0</td>\n",
       "      <td>3.130</td>\n",
       "      <td>Domestic Shorthair</td>\n",
       "      <td>Cefovecin</td>\n",
       "      <td>Ongoing</td>\n",
       "      <td>2017</td>\n",
       "    </tr>\n",
       "    <tr>\n",
       "      <th>2</th>\n",
       "      <td>Male</td>\n",
       "      <td>1.0</td>\n",
       "      <td>4.309</td>\n",
       "      <td>Domestic Shorthair</td>\n",
       "      <td>Spinosad</td>\n",
       "      <td>Recovered/Normal</td>\n",
       "      <td>2018</td>\n",
       "    </tr>\n",
       "    <tr>\n",
       "      <th>3</th>\n",
       "      <td>Female</td>\n",
       "      <td>9.0</td>\n",
       "      <td>0.000</td>\n",
       "      <td>Domestic Shorthair</td>\n",
       "      <td>Imidacloprid</td>\n",
       "      <td>Outcome Unknown</td>\n",
       "      <td>2019</td>\n",
       "    </tr>\n",
       "    <tr>\n",
       "      <th>4</th>\n",
       "      <td>Male</td>\n",
       "      <td>5.0</td>\n",
       "      <td>6.577</td>\n",
       "      <td>Domestic Shorthair</td>\n",
       "      <td>Maropitant Citrate</td>\n",
       "      <td>Ongoing</td>\n",
       "      <td>2019</td>\n",
       "    </tr>\n",
       "  </tbody>\n",
       "</table>\n",
       "</div>"
      ],
      "text/plain": [
       "   Gender  Age_y  Weight_kg               Breed                Drug  \\\n",
       "0    Male   10.0      6.350  Domestic Shorthair            Spinosad   \n",
       "1  Female   12.0      3.130  Domestic Shorthair           Cefovecin   \n",
       "2    Male    1.0      4.309  Domestic Shorthair            Spinosad   \n",
       "3  Female    9.0      0.000  Domestic Shorthair        Imidacloprid   \n",
       "4    Male    5.0      6.577  Domestic Shorthair  Maropitant Citrate   \n",
       "\n",
       "             Status  Year  \n",
       "0  Recovered/Normal  2017  \n",
       "1           Ongoing  2017  \n",
       "2  Recovered/Normal  2018  \n",
       "3   Outcome Unknown  2019  \n",
       "4           Ongoing  2019  "
      ]
     },
     "execution_count": 8,
     "metadata": {},
     "output_type": "execute_result"
    }
   ],
   "source": [
    "# Renaming columns, including units when appropriate.\n",
    "\n",
    "cat_df.columns = ['Gender', 'Age_y', 'Weight_kg', 'Breed', 'Drug', 'Status','Year']\n",
    "cat_df.head(5)"
   ]
  },
  {
   "cell_type": "markdown",
   "id": "a906038d",
   "metadata": {},
   "source": [
    "### DATA FRAME WRANGLING"
   ]
  },
  {
   "cell_type": "markdown",
   "id": "eb51e356",
   "metadata": {},
   "source": [
    "The goal is to minimize the influence of uninformative data in the dataframe. It's worth checking out the number of distinctive values for categorical variables. If there are too many, it can visualiztions can be cluttered. Categories with a low abundance of records will be dropped to minimize noise in the display.\n",
    "\n",
    "First, we'll work with eliminating ambiguity by selecting the most informative categories and records from the data set."
   ]
  },
  {
   "cell_type": "code",
   "execution_count": 9,
   "id": "142c74c9",
   "metadata": {},
   "outputs": [
    {
     "data": {
      "text/plain": [
       "Unknown                   168\n",
       "Outcome Unknown           102\n",
       "Recovered/Normal          101\n",
       "Ongoing                    80\n",
       "Died                       40\n",
       "Recovered with Sequela      5\n",
       "Euthanized                  4\n",
       "Name: Status, dtype: int64"
      ]
     },
     "execution_count": 9,
     "metadata": {},
     "output_type": "execute_result"
    }
   ],
   "source": [
    "cat_df['Status'].value_counts()"
   ]
  },
  {
   "cell_type": "markdown",
   "id": "1b5c58b6",
   "metadata": {},
   "source": [
    "There doesn't seem to be a distinction between \"Outcome Unknown\" and \"Unknown\", so these are combined. We shortened the string for one category to improve readability."
   ]
  },
  {
   "cell_type": "code",
   "execution_count": 10,
   "id": "9d5b1965",
   "metadata": {
    "scrolled": false
   },
   "outputs": [
    {
     "data": {
      "text/html": [
       "<div>\n",
       "<style scoped>\n",
       "    .dataframe tbody tr th:only-of-type {\n",
       "        vertical-align: middle;\n",
       "    }\n",
       "\n",
       "    .dataframe tbody tr th {\n",
       "        vertical-align: top;\n",
       "    }\n",
       "\n",
       "    .dataframe thead th {\n",
       "        text-align: right;\n",
       "    }\n",
       "</style>\n",
       "<table border=\"1\" class=\"dataframe\">\n",
       "  <thead>\n",
       "    <tr style=\"text-align: right;\">\n",
       "      <th></th>\n",
       "      <th>Gender</th>\n",
       "      <th>Age_y</th>\n",
       "      <th>Weight_kg</th>\n",
       "      <th>Breed</th>\n",
       "      <th>Drug</th>\n",
       "      <th>Status</th>\n",
       "      <th>Year</th>\n",
       "    </tr>\n",
       "  </thead>\n",
       "  <tbody>\n",
       "    <tr>\n",
       "      <th>0</th>\n",
       "      <td>Male</td>\n",
       "      <td>10.0</td>\n",
       "      <td>6.350</td>\n",
       "      <td>Domestic Shorthair</td>\n",
       "      <td>Spinosad</td>\n",
       "      <td>Recovered</td>\n",
       "      <td>2017</td>\n",
       "    </tr>\n",
       "    <tr>\n",
       "      <th>1</th>\n",
       "      <td>Female</td>\n",
       "      <td>12.0</td>\n",
       "      <td>3.130</td>\n",
       "      <td>Domestic Shorthair</td>\n",
       "      <td>Cefovecin</td>\n",
       "      <td>Ongoing</td>\n",
       "      <td>2017</td>\n",
       "    </tr>\n",
       "    <tr>\n",
       "      <th>2</th>\n",
       "      <td>Male</td>\n",
       "      <td>1.0</td>\n",
       "      <td>4.309</td>\n",
       "      <td>Domestic Shorthair</td>\n",
       "      <td>Spinosad</td>\n",
       "      <td>Recovered</td>\n",
       "      <td>2018</td>\n",
       "    </tr>\n",
       "    <tr>\n",
       "      <th>3</th>\n",
       "      <td>Female</td>\n",
       "      <td>9.0</td>\n",
       "      <td>0.000</td>\n",
       "      <td>Domestic Shorthair</td>\n",
       "      <td>Imidacloprid</td>\n",
       "      <td>Unknown</td>\n",
       "      <td>2019</td>\n",
       "    </tr>\n",
       "    <tr>\n",
       "      <th>4</th>\n",
       "      <td>Male</td>\n",
       "      <td>5.0</td>\n",
       "      <td>6.577</td>\n",
       "      <td>Domestic Shorthair</td>\n",
       "      <td>Maropitant Citrate</td>\n",
       "      <td>Ongoing</td>\n",
       "      <td>2019</td>\n",
       "    </tr>\n",
       "    <tr>\n",
       "      <th>5</th>\n",
       "      <td>Male</td>\n",
       "      <td>2.0</td>\n",
       "      <td>5.897</td>\n",
       "      <td>Domestic Shorthair</td>\n",
       "      <td>Fluralaner Spot-On Solution</td>\n",
       "      <td>Ongoing</td>\n",
       "      <td>2019</td>\n",
       "    </tr>\n",
       "    <tr>\n",
       "      <th>6</th>\n",
       "      <td>Male</td>\n",
       "      <td>8.0</td>\n",
       "      <td>8.845</td>\n",
       "      <td>Domestic Longhair</td>\n",
       "      <td>Spinosad</td>\n",
       "      <td>Recovered</td>\n",
       "      <td>2019</td>\n",
       "    </tr>\n",
       "    <tr>\n",
       "      <th>7</th>\n",
       "      <td>Unknown</td>\n",
       "      <td>0.0</td>\n",
       "      <td>0.000</td>\n",
       "      <td>Cat (unknown)</td>\n",
       "      <td>Imidacloprid</td>\n",
       "      <td>Recovered</td>\n",
       "      <td>2021</td>\n",
       "    </tr>\n",
       "    <tr>\n",
       "      <th>8</th>\n",
       "      <td>Male</td>\n",
       "      <td>9.0</td>\n",
       "      <td>4.309</td>\n",
       "      <td>Domestic Shorthair</td>\n",
       "      <td>Fluralaner Spot-On Solution</td>\n",
       "      <td>Ongoing</td>\n",
       "      <td>2020</td>\n",
       "    </tr>\n",
       "    <tr>\n",
       "      <th>9</th>\n",
       "      <td>Female</td>\n",
       "      <td>11.0</td>\n",
       "      <td>2.722</td>\n",
       "      <td>Cat (unknown)</td>\n",
       "      <td>Imidacloprid</td>\n",
       "      <td>Unknown</td>\n",
       "      <td>2021</td>\n",
       "    </tr>\n",
       "  </tbody>\n",
       "</table>\n",
       "</div>"
      ],
      "text/plain": [
       "    Gender  Age_y  Weight_kg               Breed                         Drug  \\\n",
       "0     Male   10.0      6.350  Domestic Shorthair                     Spinosad   \n",
       "1   Female   12.0      3.130  Domestic Shorthair                    Cefovecin   \n",
       "2     Male    1.0      4.309  Domestic Shorthair                     Spinosad   \n",
       "3   Female    9.0      0.000  Domestic Shorthair                 Imidacloprid   \n",
       "4     Male    5.0      6.577  Domestic Shorthair           Maropitant Citrate   \n",
       "5     Male    2.0      5.897  Domestic Shorthair  Fluralaner Spot-On Solution   \n",
       "6     Male    8.0      8.845   Domestic Longhair                     Spinosad   \n",
       "7  Unknown    0.0      0.000       Cat (unknown)                 Imidacloprid   \n",
       "8     Male    9.0      4.309  Domestic Shorthair  Fluralaner Spot-On Solution   \n",
       "9   Female   11.0      2.722       Cat (unknown)                 Imidacloprid   \n",
       "\n",
       "      Status  Year  \n",
       "0  Recovered  2017  \n",
       "1    Ongoing  2017  \n",
       "2  Recovered  2018  \n",
       "3    Unknown  2019  \n",
       "4    Ongoing  2019  \n",
       "5    Ongoing  2019  \n",
       "6  Recovered  2019  \n",
       "7  Recovered  2021  \n",
       "8    Ongoing  2020  \n",
       "9    Unknown  2021  "
      ]
     },
     "execution_count": 10,
     "metadata": {},
     "output_type": "execute_result"
    }
   ],
   "source": [
    "cat_df['Status'].replace('Outcome Unknown','Unknown', inplace=True)\n",
    "\n",
    "cat_df['Status'].replace('Recovered/Normal','Recovered', inplace=True)\n",
    "cat_df.head(10)"
   ]
  },
  {
   "cell_type": "markdown",
   "id": "928d9067",
   "metadata": {},
   "source": [
    "Checking the numerical variables to see the abundance of uninformatitve zeroes. Ages and weights of zero are meaningless and can distory the statistical properties of the data set. This can distort displays and can pave the way for drawing inaccurate conclusions. "
   ]
  },
  {
   "cell_type": "code",
   "execution_count": 11,
   "id": "6668c3b6",
   "metadata": {},
   "outputs": [
    {
     "data": {
      "text/plain": [
       "0.00     69\n",
       "6.00     48\n",
       "3.00     42\n",
       "2.00     37\n",
       "5.00     36\n",
       "8.00     32\n",
       "4.00     27\n",
       "7.00     22\n",
       "10.00    22\n",
       "9.00     22\n",
       "12.00    21\n",
       "11.00    17\n",
       "1.00     16\n",
       "15.00    15\n",
       "13.00    14\n",
       "14.00     8\n",
       "16.00     8\n",
       "3.50      7\n",
       "1.50      5\n",
       "17.00     5\n",
       "10.50     4\n",
       "18.00     4\n",
       "7.50      3\n",
       "4.50      3\n",
       "12.50     2\n",
       "19.00     1\n",
       "6.50      1\n",
       "50.00     1\n",
       "5.11      1\n",
       "11.50     1\n",
       "20.00     1\n",
       "2.20      1\n",
       "2.50      1\n",
       "5.30      1\n",
       "4.20      1\n",
       "26.00     1\n",
       "Name: Age_y, dtype: int64"
      ]
     },
     "execution_count": 11,
     "metadata": {},
     "output_type": "execute_result"
    }
   ],
   "source": [
    "cat_df['Age_y'].value_counts()"
   ]
  },
  {
   "cell_type": "code",
   "execution_count": 12,
   "id": "6afedbe5",
   "metadata": {
    "scrolled": true
   },
   "outputs": [
    {
     "data": {
      "text/plain": [
       "0.000    78\n",
       "4.990    19\n",
       "4.536    17\n",
       "4.540    16\n",
       "5.440    14\n",
       "         ..\n",
       "4.350     1\n",
       "6.668     1\n",
       "3.490     1\n",
       "6.033     1\n",
       "1.410     1\n",
       "Name: Weight_kg, Length: 177, dtype: int64"
      ]
     },
     "execution_count": 12,
     "metadata": {},
     "output_type": "execute_result"
    }
   ],
   "source": [
    "cat_df['Weight_kg'].value_counts()"
   ]
  },
  {
   "cell_type": "markdown",
   "id": "2d110b42",
   "metadata": {},
   "source": [
    "We see that 78 of the records have a weight of 0 kgs, and 69 have an age of 0 years. We will filter the data and create a new frame without those recors. Thus, we'll restrict our attention to subjects estimated to be at least one year old, and one kg in weight."
   ]
  },
  {
   "cell_type": "code",
   "execution_count": 51,
   "id": "1246aba8",
   "metadata": {},
   "outputs": [],
   "source": [
    "# Inspecting breed category\n",
    "cat_df['Breed'].value_counts();"
   ]
  },
  {
   "cell_type": "markdown",
   "id": "44c6b806",
   "metadata": {},
   "source": [
    "There's a lot of ambiguity among the categories, and eleven categories had two or fewer records. Trimming the data set to eliminate the latter group. Then, re-code to combine \"Cat (unknown)\" with \"Cat (other)\" and \"Mixed (Cat)\"."
   ]
  },
  {
   "cell_type": "code",
   "execution_count": 14,
   "id": "a8eb69fb",
   "metadata": {
    "scrolled": false
   },
   "outputs": [],
   "source": [
    "cat_df['Breed'].replace('Cat (unknown)','Unknown', inplace=True)\n",
    "cat_df['Breed'].replace('Cat (other)', 'Unknown', inplace=True)\n",
    "cat_df['Breed'].replace('Mixed (Cat)', 'Unknown', inplace=True)\n",
    "cat_df['Breed'].value_counts();"
   ]
  },
  {
   "cell_type": "markdown",
   "id": "d6c9b883",
   "metadata": {},
   "source": [
    "The next goal: create a dataframe that includes only the categories for which the frequency exceeds 25. Several filtering methods fail and yield the same TypeError. The naive work-around is to extract smaller dataframes from this larger one and then concatenate them. Let's see if this works: "
   ]
  },
  {
   "cell_type": "code",
   "execution_count": 15,
   "id": "836fe63e",
   "metadata": {
    "scrolled": true
   },
   "outputs": [
    {
     "data": {
      "text/html": [
       "<div>\n",
       "<style scoped>\n",
       "    .dataframe tbody tr th:only-of-type {\n",
       "        vertical-align: middle;\n",
       "    }\n",
       "\n",
       "    .dataframe tbody tr th {\n",
       "        vertical-align: top;\n",
       "    }\n",
       "\n",
       "    .dataframe thead th {\n",
       "        text-align: right;\n",
       "    }\n",
       "</style>\n",
       "<table border=\"1\" class=\"dataframe\">\n",
       "  <thead>\n",
       "    <tr style=\"text-align: right;\">\n",
       "      <th></th>\n",
       "      <th>Gender</th>\n",
       "      <th>Age_y</th>\n",
       "      <th>Weight_kg</th>\n",
       "      <th>Breed</th>\n",
       "      <th>Drug</th>\n",
       "      <th>Status</th>\n",
       "      <th>Year</th>\n",
       "    </tr>\n",
       "  </thead>\n",
       "  <tbody>\n",
       "    <tr>\n",
       "      <th>0</th>\n",
       "      <td>Male</td>\n",
       "      <td>10.0</td>\n",
       "      <td>6.350</td>\n",
       "      <td>Domestic Shorthair</td>\n",
       "      <td>Spinosad</td>\n",
       "      <td>Recovered</td>\n",
       "      <td>2017</td>\n",
       "    </tr>\n",
       "    <tr>\n",
       "      <th>1</th>\n",
       "      <td>Female</td>\n",
       "      <td>12.0</td>\n",
       "      <td>3.130</td>\n",
       "      <td>Domestic Shorthair</td>\n",
       "      <td>Cefovecin</td>\n",
       "      <td>Ongoing</td>\n",
       "      <td>2017</td>\n",
       "    </tr>\n",
       "    <tr>\n",
       "      <th>2</th>\n",
       "      <td>Male</td>\n",
       "      <td>1.0</td>\n",
       "      <td>4.309</td>\n",
       "      <td>Domestic Shorthair</td>\n",
       "      <td>Spinosad</td>\n",
       "      <td>Recovered</td>\n",
       "      <td>2018</td>\n",
       "    </tr>\n",
       "    <tr>\n",
       "      <th>3</th>\n",
       "      <td>Female</td>\n",
       "      <td>9.0</td>\n",
       "      <td>0.000</td>\n",
       "      <td>Domestic Shorthair</td>\n",
       "      <td>Imidacloprid</td>\n",
       "      <td>Unknown</td>\n",
       "      <td>2019</td>\n",
       "    </tr>\n",
       "    <tr>\n",
       "      <th>4</th>\n",
       "      <td>Male</td>\n",
       "      <td>5.0</td>\n",
       "      <td>6.577</td>\n",
       "      <td>Domestic Shorthair</td>\n",
       "      <td>Maropitant Citrate</td>\n",
       "      <td>Ongoing</td>\n",
       "      <td>2019</td>\n",
       "    </tr>\n",
       "  </tbody>\n",
       "</table>\n",
       "</div>"
      ],
      "text/plain": [
       "   Gender  Age_y  Weight_kg               Breed                Drug  \\\n",
       "0    Male   10.0      6.350  Domestic Shorthair            Spinosad   \n",
       "1  Female   12.0      3.130  Domestic Shorthair           Cefovecin   \n",
       "2    Male    1.0      4.309  Domestic Shorthair            Spinosad   \n",
       "3  Female    9.0      0.000  Domestic Shorthair        Imidacloprid   \n",
       "4    Male    5.0      6.577  Domestic Shorthair  Maropitant Citrate   \n",
       "\n",
       "      Status  Year  \n",
       "0  Recovered  2017  \n",
       "1    Ongoing  2017  \n",
       "2  Recovered  2018  \n",
       "3    Unknown  2019  \n",
       "4    Ongoing  2019  "
      ]
     },
     "execution_count": 15,
     "metadata": {},
     "output_type": "execute_result"
    }
   ],
   "source": [
    "dshort = cat_df[cat_df['Breed'] == 'Domestic Shorthair']\n",
    "dshort.head(5)"
   ]
  },
  {
   "cell_type": "code",
   "execution_count": 16,
   "id": "6f328161",
   "metadata": {
    "scrolled": false
   },
   "outputs": [
    {
     "data": {
      "text/html": [
       "<div>\n",
       "<style scoped>\n",
       "    .dataframe tbody tr th:only-of-type {\n",
       "        vertical-align: middle;\n",
       "    }\n",
       "\n",
       "    .dataframe tbody tr th {\n",
       "        vertical-align: top;\n",
       "    }\n",
       "\n",
       "    .dataframe thead th {\n",
       "        text-align: right;\n",
       "    }\n",
       "</style>\n",
       "<table border=\"1\" class=\"dataframe\">\n",
       "  <thead>\n",
       "    <tr style=\"text-align: right;\">\n",
       "      <th></th>\n",
       "      <th>Gender</th>\n",
       "      <th>Age_y</th>\n",
       "      <th>Weight_kg</th>\n",
       "      <th>Breed</th>\n",
       "      <th>Drug</th>\n",
       "      <th>Status</th>\n",
       "      <th>Year</th>\n",
       "    </tr>\n",
       "  </thead>\n",
       "  <tbody>\n",
       "    <tr>\n",
       "      <th>6</th>\n",
       "      <td>Male</td>\n",
       "      <td>8.0</td>\n",
       "      <td>8.845</td>\n",
       "      <td>Domestic Longhair</td>\n",
       "      <td>Spinosad</td>\n",
       "      <td>Recovered</td>\n",
       "      <td>2019</td>\n",
       "    </tr>\n",
       "    <tr>\n",
       "      <th>11</th>\n",
       "      <td>Male</td>\n",
       "      <td>8.0</td>\n",
       "      <td>4.540</td>\n",
       "      <td>Domestic Longhair</td>\n",
       "      <td>Spinosad</td>\n",
       "      <td>Recovered</td>\n",
       "      <td>2012</td>\n",
       "    </tr>\n",
       "    <tr>\n",
       "      <th>14</th>\n",
       "      <td>Male</td>\n",
       "      <td>7.0</td>\n",
       "      <td>5.400</td>\n",
       "      <td>Domestic Longhair</td>\n",
       "      <td>Pradofloxacin</td>\n",
       "      <td>Recovered</td>\n",
       "      <td>2013</td>\n",
       "    </tr>\n",
       "    <tr>\n",
       "      <th>35</th>\n",
       "      <td>Male</td>\n",
       "      <td>15.0</td>\n",
       "      <td>5.897</td>\n",
       "      <td>Domestic Longhair</td>\n",
       "      <td>Spinosad</td>\n",
       "      <td>Recovered</td>\n",
       "      <td>2015</td>\n",
       "    </tr>\n",
       "    <tr>\n",
       "      <th>69</th>\n",
       "      <td>Female</td>\n",
       "      <td>10.0</td>\n",
       "      <td>3.900</td>\n",
       "      <td>Domestic Longhair</td>\n",
       "      <td>Spinosad</td>\n",
       "      <td>Recovered with Sequela</td>\n",
       "      <td>2012</td>\n",
       "    </tr>\n",
       "  </tbody>\n",
       "</table>\n",
       "</div>"
      ],
      "text/plain": [
       "    Gender  Age_y  Weight_kg              Breed           Drug  \\\n",
       "6     Male    8.0      8.845  Domestic Longhair       Spinosad   \n",
       "11    Male    8.0      4.540  Domestic Longhair       Spinosad   \n",
       "14    Male    7.0      5.400  Domestic Longhair  Pradofloxacin   \n",
       "35    Male   15.0      5.897  Domestic Longhair       Spinosad   \n",
       "69  Female   10.0      3.900  Domestic Longhair       Spinosad   \n",
       "\n",
       "                    Status  Year  \n",
       "6                Recovered  2019  \n",
       "11               Recovered  2012  \n",
       "14               Recovered  2013  \n",
       "35               Recovered  2015  \n",
       "69  Recovered with Sequela  2012  "
      ]
     },
     "execution_count": 16,
     "metadata": {},
     "output_type": "execute_result"
    }
   ],
   "source": [
    "dlong = cat_df[cat_df['Breed'] == 'Domestic Longhair']\n",
    "dlong.head(5)"
   ]
  },
  {
   "cell_type": "code",
   "execution_count": 17,
   "id": "ca6ad7e1",
   "metadata": {},
   "outputs": [
    {
     "data": {
      "text/html": [
       "<div>\n",
       "<style scoped>\n",
       "    .dataframe tbody tr th:only-of-type {\n",
       "        vertical-align: middle;\n",
       "    }\n",
       "\n",
       "    .dataframe tbody tr th {\n",
       "        vertical-align: top;\n",
       "    }\n",
       "\n",
       "    .dataframe thead th {\n",
       "        text-align: right;\n",
       "    }\n",
       "</style>\n",
       "<table border=\"1\" class=\"dataframe\">\n",
       "  <thead>\n",
       "    <tr style=\"text-align: right;\">\n",
       "      <th></th>\n",
       "      <th>Gender</th>\n",
       "      <th>Age_y</th>\n",
       "      <th>Weight_kg</th>\n",
       "      <th>Breed</th>\n",
       "      <th>Drug</th>\n",
       "      <th>Status</th>\n",
       "      <th>Year</th>\n",
       "    </tr>\n",
       "  </thead>\n",
       "  <tbody>\n",
       "    <tr>\n",
       "      <th>38</th>\n",
       "      <td>Female</td>\n",
       "      <td>3.0</td>\n",
       "      <td>6.396</td>\n",
       "      <td>Domestic Mediumhair</td>\n",
       "      <td>Spinosad</td>\n",
       "      <td>Recovered</td>\n",
       "      <td>2016</td>\n",
       "    </tr>\n",
       "    <tr>\n",
       "      <th>44</th>\n",
       "      <td>Male</td>\n",
       "      <td>6.0</td>\n",
       "      <td>7.484</td>\n",
       "      <td>Domestic Mediumhair</td>\n",
       "      <td>Fluralaner Spot-On Solution</td>\n",
       "      <td>Ongoing</td>\n",
       "      <td>2018</td>\n",
       "    </tr>\n",
       "    <tr>\n",
       "      <th>45</th>\n",
       "      <td>Female</td>\n",
       "      <td>0.0</td>\n",
       "      <td>0.000</td>\n",
       "      <td>Domestic Mediumhair</td>\n",
       "      <td>Selamectin</td>\n",
       "      <td>Ongoing</td>\n",
       "      <td>2018</td>\n",
       "    </tr>\n",
       "    <tr>\n",
       "      <th>49</th>\n",
       "      <td>Female</td>\n",
       "      <td>7.0</td>\n",
       "      <td>4.445</td>\n",
       "      <td>Domestic Mediumhair</td>\n",
       "      <td>Buprenorphine</td>\n",
       "      <td>Ongoing</td>\n",
       "      <td>2020</td>\n",
       "    </tr>\n",
       "    <tr>\n",
       "      <th>53</th>\n",
       "      <td>Male</td>\n",
       "      <td>6.0</td>\n",
       "      <td>5.440</td>\n",
       "      <td>Domestic Mediumhair</td>\n",
       "      <td>Spinosad</td>\n",
       "      <td>Recovered</td>\n",
       "      <td>2013</td>\n",
       "    </tr>\n",
       "  </tbody>\n",
       "</table>\n",
       "</div>"
      ],
      "text/plain": [
       "    Gender  Age_y  Weight_kg                Breed  \\\n",
       "38  Female    3.0      6.396  Domestic Mediumhair   \n",
       "44    Male    6.0      7.484  Domestic Mediumhair   \n",
       "45  Female    0.0      0.000  Domestic Mediumhair   \n",
       "49  Female    7.0      4.445  Domestic Mediumhair   \n",
       "53    Male    6.0      5.440  Domestic Mediumhair   \n",
       "\n",
       "                           Drug     Status  Year  \n",
       "38                     Spinosad  Recovered  2016  \n",
       "44  Fluralaner Spot-On Solution    Ongoing  2018  \n",
       "45                   Selamectin    Ongoing  2018  \n",
       "49                Buprenorphine    Ongoing  2020  \n",
       "53                     Spinosad  Recovered  2013  "
      ]
     },
     "execution_count": 17,
     "metadata": {},
     "output_type": "execute_result"
    }
   ],
   "source": [
    "dmed = cat_df[cat_df['Breed'] == 'Domestic Mediumhair']\n",
    "dmed.head(5)"
   ]
  },
  {
   "cell_type": "code",
   "execution_count": 18,
   "id": "8571647c",
   "metadata": {},
   "outputs": [
    {
     "data": {
      "text/html": [
       "<div>\n",
       "<style scoped>\n",
       "    .dataframe tbody tr th:only-of-type {\n",
       "        vertical-align: middle;\n",
       "    }\n",
       "\n",
       "    .dataframe tbody tr th {\n",
       "        vertical-align: top;\n",
       "    }\n",
       "\n",
       "    .dataframe thead th {\n",
       "        text-align: right;\n",
       "    }\n",
       "</style>\n",
       "<table border=\"1\" class=\"dataframe\">\n",
       "  <thead>\n",
       "    <tr style=\"text-align: right;\">\n",
       "      <th></th>\n",
       "      <th>Gender</th>\n",
       "      <th>Age_y</th>\n",
       "      <th>Weight_kg</th>\n",
       "      <th>Breed</th>\n",
       "      <th>Drug</th>\n",
       "      <th>Status</th>\n",
       "      <th>Year</th>\n",
       "    </tr>\n",
       "  </thead>\n",
       "  <tbody>\n",
       "    <tr>\n",
       "      <th>16</th>\n",
       "      <td>Male</td>\n",
       "      <td>2.0</td>\n",
       "      <td>6.35</td>\n",
       "      <td>Domestic (unspecified)</td>\n",
       "      <td>Pyrantel Pamoate</td>\n",
       "      <td>Unknown</td>\n",
       "      <td>2007</td>\n",
       "    </tr>\n",
       "    <tr>\n",
       "      <th>17</th>\n",
       "      <td>Male</td>\n",
       "      <td>10.0</td>\n",
       "      <td>5.50</td>\n",
       "      <td>Domestic (unspecified)</td>\n",
       "      <td>Enrofloxacin</td>\n",
       "      <td>Unknown</td>\n",
       "      <td>2006</td>\n",
       "    </tr>\n",
       "    <tr>\n",
       "      <th>20</th>\n",
       "      <td>Male</td>\n",
       "      <td>15.0</td>\n",
       "      <td>8.16</td>\n",
       "      <td>Domestic (unspecified)</td>\n",
       "      <td>Cyclosporine</td>\n",
       "      <td>Unknown</td>\n",
       "      <td>2011</td>\n",
       "    </tr>\n",
       "    <tr>\n",
       "      <th>21</th>\n",
       "      <td>Female</td>\n",
       "      <td>17.0</td>\n",
       "      <td>3.18</td>\n",
       "      <td>Domestic (unspecified)</td>\n",
       "      <td>Ketamine Hydrochloride</td>\n",
       "      <td>Unknown</td>\n",
       "      <td>2004</td>\n",
       "    </tr>\n",
       "    <tr>\n",
       "      <th>22</th>\n",
       "      <td>Male</td>\n",
       "      <td>2.0</td>\n",
       "      <td>4.99</td>\n",
       "      <td>Domestic (unspecified)</td>\n",
       "      <td>Lufenuron</td>\n",
       "      <td>Unknown</td>\n",
       "      <td>1996</td>\n",
       "    </tr>\n",
       "  </tbody>\n",
       "</table>\n",
       "</div>"
      ],
      "text/plain": [
       "    Gender  Age_y  Weight_kg                   Breed                    Drug  \\\n",
       "16    Male    2.0       6.35  Domestic (unspecified)        Pyrantel Pamoate   \n",
       "17    Male   10.0       5.50  Domestic (unspecified)            Enrofloxacin   \n",
       "20    Male   15.0       8.16  Domestic (unspecified)            Cyclosporine   \n",
       "21  Female   17.0       3.18  Domestic (unspecified)  Ketamine Hydrochloride   \n",
       "22    Male    2.0       4.99  Domestic (unspecified)               Lufenuron   \n",
       "\n",
       "     Status  Year  \n",
       "16  Unknown  2007  \n",
       "17  Unknown  2006  \n",
       "20  Unknown  2011  \n",
       "21  Unknown  2004  \n",
       "22  Unknown  1996  "
      ]
     },
     "execution_count": 18,
     "metadata": {},
     "output_type": "execute_result"
    }
   ],
   "source": [
    "dunsp = cat_df[cat_df['Breed'] == 'Domestic (unspecified)']\n",
    "dunsp.head(5)"
   ]
  },
  {
   "cell_type": "code",
   "execution_count": 19,
   "id": "641c0068",
   "metadata": {},
   "outputs": [
    {
     "data": {
      "text/html": [
       "<div>\n",
       "<style scoped>\n",
       "    .dataframe tbody tr th:only-of-type {\n",
       "        vertical-align: middle;\n",
       "    }\n",
       "\n",
       "    .dataframe tbody tr th {\n",
       "        vertical-align: top;\n",
       "    }\n",
       "\n",
       "    .dataframe thead th {\n",
       "        text-align: right;\n",
       "    }\n",
       "</style>\n",
       "<table border=\"1\" class=\"dataframe\">\n",
       "  <thead>\n",
       "    <tr style=\"text-align: right;\">\n",
       "      <th></th>\n",
       "      <th>Gender</th>\n",
       "      <th>Age_y</th>\n",
       "      <th>Weight_kg</th>\n",
       "      <th>Breed</th>\n",
       "      <th>Drug</th>\n",
       "      <th>Status</th>\n",
       "      <th>Year</th>\n",
       "    </tr>\n",
       "  </thead>\n",
       "  <tbody>\n",
       "    <tr>\n",
       "      <th>7</th>\n",
       "      <td>Unknown</td>\n",
       "      <td>0.0</td>\n",
       "      <td>0.000</td>\n",
       "      <td>Unknown</td>\n",
       "      <td>Imidacloprid</td>\n",
       "      <td>Recovered</td>\n",
       "      <td>2021</td>\n",
       "    </tr>\n",
       "    <tr>\n",
       "      <th>9</th>\n",
       "      <td>Female</td>\n",
       "      <td>11.0</td>\n",
       "      <td>2.722</td>\n",
       "      <td>Unknown</td>\n",
       "      <td>Imidacloprid</td>\n",
       "      <td>Unknown</td>\n",
       "      <td>2021</td>\n",
       "    </tr>\n",
       "    <tr>\n",
       "      <th>10</th>\n",
       "      <td>Unknown</td>\n",
       "      <td>0.0</td>\n",
       "      <td>0.000</td>\n",
       "      <td>Unknown</td>\n",
       "      <td>Praziquantel</td>\n",
       "      <td>Unknown</td>\n",
       "      <td>2021</td>\n",
       "    </tr>\n",
       "    <tr>\n",
       "      <th>12</th>\n",
       "      <td>Unknown</td>\n",
       "      <td>0.0</td>\n",
       "      <td>3.180</td>\n",
       "      <td>Unknown</td>\n",
       "      <td>Griseofulvin</td>\n",
       "      <td>Unknown</td>\n",
       "      <td>1996</td>\n",
       "    </tr>\n",
       "    <tr>\n",
       "      <th>18</th>\n",
       "      <td>Unknown</td>\n",
       "      <td>3.0</td>\n",
       "      <td>3.180</td>\n",
       "      <td>Unknown</td>\n",
       "      <td>Ketamine Hydrochloride</td>\n",
       "      <td>Unknown</td>\n",
       "      <td>1988</td>\n",
       "    </tr>\n",
       "  </tbody>\n",
       "</table>\n",
       "</div>"
      ],
      "text/plain": [
       "     Gender  Age_y  Weight_kg    Breed                    Drug     Status  \\\n",
       "7   Unknown    0.0      0.000  Unknown            Imidacloprid  Recovered   \n",
       "9    Female   11.0      2.722  Unknown            Imidacloprid    Unknown   \n",
       "10  Unknown    0.0      0.000  Unknown            Praziquantel    Unknown   \n",
       "12  Unknown    0.0      3.180  Unknown            Griseofulvin    Unknown   \n",
       "18  Unknown    3.0      3.180  Unknown  Ketamine Hydrochloride    Unknown   \n",
       "\n",
       "    Year  \n",
       "7   2021  \n",
       "9   2021  \n",
       "10  2021  \n",
       "12  1996  \n",
       "18  1988  "
      ]
     },
     "execution_count": 19,
     "metadata": {},
     "output_type": "execute_result"
    }
   ],
   "source": [
    "unkn = cat_df[cat_df['Breed'] == 'Unknown']\n",
    "unkn.head(5)"
   ]
  },
  {
   "cell_type": "code",
   "execution_count": 20,
   "id": "647c5a7c",
   "metadata": {},
   "outputs": [],
   "source": [
    "frames = [dshort, dlong, dmed, dunsp, unkn]"
   ]
  },
  {
   "cell_type": "code",
   "execution_count": 21,
   "id": "363e05fe",
   "metadata": {
    "scrolled": true
   },
   "outputs": [],
   "source": [
    "cat = pd.concat(frames)\n",
    "#cat"
   ]
  },
  {
   "cell_type": "markdown",
   "id": "3250bd85",
   "metadata": {},
   "source": [
    "Now we can drop the records with the uninformative zeroes from the dataframe. First, check the stats on the numerical variables before dropping"
   ]
  },
  {
   "cell_type": "code",
   "execution_count": 22,
   "id": "d138f2b7",
   "metadata": {},
   "outputs": [
    {
     "data": {
      "text/plain": [
       "count    488.000000\n",
       "mean       6.336701\n",
       "std        5.202351\n",
       "min        0.000000\n",
       "25%        2.000000\n",
       "50%        6.000000\n",
       "75%       10.000000\n",
       "max       50.000000\n",
       "Name: Age_y, dtype: float64"
      ]
     },
     "execution_count": 22,
     "metadata": {},
     "output_type": "execute_result"
    }
   ],
   "source": [
    "cat['Age_y'].describe()"
   ]
  },
  {
   "cell_type": "code",
   "execution_count": 23,
   "id": "5bb925cb",
   "metadata": {},
   "outputs": [
    {
     "data": {
      "text/plain": [
       "count    488.000000\n",
       "mean       3.928557\n",
       "std        2.383235\n",
       "min        0.000000\n",
       "25%        2.686250\n",
       "50%        4.263500\n",
       "75%        5.440000\n",
       "max       11.790000\n",
       "Name: Weight_kg, dtype: float64"
      ]
     },
     "execution_count": 23,
     "metadata": {},
     "output_type": "execute_result"
    }
   ],
   "source": [
    "cat['Weight_kg'].describe()"
   ]
  },
  {
   "cell_type": "code",
   "execution_count": 24,
   "id": "7afc480f",
   "metadata": {},
   "outputs": [
    {
     "data": {
      "text/plain": [
       "count    420.000000\n",
       "mean       7.362643\n",
       "std        4.887239\n",
       "min        1.000000\n",
       "25%        3.500000\n",
       "50%        6.000000\n",
       "75%       10.000000\n",
       "max       50.000000\n",
       "Name: Age_y, dtype: float64"
      ]
     },
     "execution_count": 24,
     "metadata": {},
     "output_type": "execute_result"
    }
   ],
   "source": [
    "cat.drop(cat.index[cat['Age_y'] == 0], inplace = True)\n",
    "cat['Age_y'].describe()"
   ]
  },
  {
   "cell_type": "code",
   "execution_count": 25,
   "id": "4fda80aa",
   "metadata": {},
   "outputs": [
    {
     "data": {
      "text/plain": [
       "count    398.000000\n",
       "mean       4.658246\n",
       "std        1.850667\n",
       "min        0.360000\n",
       "25%        3.370000\n",
       "50%        4.540000\n",
       "75%        5.897000\n",
       "max       11.790000\n",
       "Name: Weight_kg, dtype: float64"
      ]
     },
     "execution_count": 25,
     "metadata": {},
     "output_type": "execute_result"
    }
   ],
   "source": [
    "cat.drop(cat.index[cat['Weight_kg'] == 0], inplace = True)\n",
    "cat['Weight_kg'].describe()"
   ]
  },
  {
   "cell_type": "markdown",
   "id": "a22515bd",
   "metadata": {
    "scrolled": true
   },
   "source": [
    "We see that the means and standard deviations have changed."
   ]
  },
  {
   "cell_type": "markdown",
   "id": "0797d706",
   "metadata": {},
   "source": [
    "At this point, we now have informative records for about 400 cats. Now, we can restrict the numbers of drugs to include in the plots. First, we check the frequency of drugs, and then filter out all of the records for which the abundance of a drug is >= 10"
   ]
  },
  {
   "cell_type": "code",
   "execution_count": 27,
   "id": "bd2a0f75",
   "metadata": {},
   "outputs": [
    {
     "data": {
      "text/plain": [
       "Selamectin                     73\n",
       "Spinosad                       59\n",
       "Fluralaner Spot-On Solution    27\n",
       "Nitenpyram                     21\n",
       "Imidacloprid                   18\n",
       "                               ..\n",
       "Mirtazapine                     1\n",
       "Methylprednisolone Acetate      1\n",
       "Alfaxalone                      1\n",
       "Ear Cleansers/Astringents       1\n",
       "Ferric Cation                   1\n",
       "Name: Drug, Length: 66, dtype: int64"
      ]
     },
     "execution_count": 27,
     "metadata": {},
     "output_type": "execute_result"
    }
   ],
   "source": [
    "cat['Drug'].value_counts()"
   ]
  },
  {
   "cell_type": "code",
   "execution_count": 28,
   "id": "5c80dcf4",
   "metadata": {},
   "outputs": [],
   "source": [
    "catdf = cat.groupby('Drug').filter(lambda x: (x['Drug'].count()>=10).any())"
   ]
  },
  {
   "cell_type": "code",
   "execution_count": 29,
   "id": "39baab5a",
   "metadata": {},
   "outputs": [],
   "source": [
    "catdf;"
   ]
  },
  {
   "cell_type": "code",
   "execution_count": 30,
   "id": "826fceeb",
   "metadata": {},
   "outputs": [
    {
     "data": {
      "text/plain": [
       "Selamectin                     73\n",
       "Spinosad                       59\n",
       "Fluralaner Spot-On Solution    27\n",
       "Nitenpyram                     21\n",
       "Imidacloprid                   18\n",
       "Meloxicam                      15\n",
       "Praziquantel                   15\n",
       "Lufenuron                      12\n",
       "Name: Drug, dtype: int64"
      ]
     },
     "execution_count": 30,
     "metadata": {},
     "output_type": "execute_result"
    }
   ],
   "source": [
    "catdf['Drug'].value_counts()"
   ]
  },
  {
   "cell_type": "markdown",
   "id": "6b813a5f",
   "metadata": {},
   "source": [
    "The dataframe now has 240 records and is focused on 8 drugs. The smallest category for the 'Drug' variable, Lufenuron (n=12), represents 5% of the data. That's probably too small for any category, but that will be the lower limit for this exercise."
   ]
  },
  {
   "cell_type": "markdown",
   "id": "bc399576",
   "metadata": {},
   "source": [
    "Finally, we look at the \"Gender\" category:"
   ]
  },
  {
   "cell_type": "code",
   "execution_count": 31,
   "id": "52b39994",
   "metadata": {
    "scrolled": true
   },
   "outputs": [
    {
     "data": {
      "text/plain": [
       "Male       137\n",
       "Female      98\n",
       "Unknown      4\n",
       "Mixed        1\n",
       "Name: Gender, dtype: int64"
      ]
     },
     "execution_count": 31,
     "metadata": {},
     "output_type": "execute_result"
    }
   ],
   "source": [
    "catdf['Gender'].value_counts()"
   ]
  },
  {
   "cell_type": "markdown",
   "id": "91f2955f",
   "metadata": {},
   "source": [
    "There are four categories, but we didn't drop \"Unknown\" and \"Mixed\" from the set. \"Unknown\" comes from lack of information, and \"Mixed\" may or may not be a hermaphrodite. "
   ]
  },
  {
   "cell_type": "markdown",
   "id": "722d42af",
   "metadata": {},
   "source": [
    "Now, we can run the summary statistics on the numerical values:"
   ]
  },
  {
   "cell_type": "code",
   "execution_count": 32,
   "id": "1f0332aa",
   "metadata": {},
   "outputs": [
    {
     "data": {
      "text/plain": [
       "count    240.000000\n",
       "mean       6.963792\n",
       "std        4.882630\n",
       "min        1.000000\n",
       "25%        3.000000\n",
       "50%        6.000000\n",
       "75%       10.000000\n",
       "max       50.000000\n",
       "Name: Age_y, dtype: float64"
      ]
     },
     "execution_count": 32,
     "metadata": {},
     "output_type": "execute_result"
    }
   ],
   "source": [
    "catdf['Age_y'].describe()"
   ]
  },
  {
   "cell_type": "markdown",
   "id": "5fe2c7af",
   "metadata": {},
   "source": [
    "That max cat age could be a problem. There are two instances of cats over the age of 25, those will be dropped. "
   ]
  },
  {
   "cell_type": "code",
   "execution_count": 35,
   "id": "4132fbeb",
   "metadata": {},
   "outputs": [
    {
     "data": {
      "text/plain": [
       "count    239.000000\n",
       "mean       6.783724\n",
       "std        4.015680\n",
       "min        1.000000\n",
       "25%        3.000000\n",
       "50%        6.000000\n",
       "75%       10.000000\n",
       "max       19.000000\n",
       "Name: Age_y, dtype: float64"
      ]
     },
     "execution_count": 35,
     "metadata": {},
     "output_type": "execute_result"
    }
   ],
   "source": [
    "catdf.drop(catdf.index[catdf['Age_y'] >= 26], inplace = True)\n",
    "catdf['Age_y'].describe()"
   ]
  },
  {
   "cell_type": "code",
   "execution_count": 36,
   "id": "47567c3d",
   "metadata": {},
   "outputs": [
    {
     "data": {
      "text/plain": [
       "count    239.000000\n",
       "mean       4.812004\n",
       "std        1.863792\n",
       "min        0.360000\n",
       "25%        3.629000\n",
       "50%        4.580000\n",
       "75%        5.900000\n",
       "max       11.790000\n",
       "Name: Weight_kg, dtype: float64"
      ]
     },
     "execution_count": 36,
     "metadata": {},
     "output_type": "execute_result"
    }
   ],
   "source": [
    "catdf['Weight_kg'].describe()"
   ]
  },
  {
   "cell_type": "markdown",
   "id": "9edd478d",
   "metadata": {},
   "source": [
    "And summary proportions of nominal categorical variables:"
   ]
  },
  {
   "cell_type": "code",
   "execution_count": 37,
   "id": "4fbc8b7f",
   "metadata": {},
   "outputs": [
    {
     "data": {
      "text/plain": [
       "Domestic Shorthair        0.510460\n",
       "Domestic (unspecified)    0.271967\n",
       "Domestic Longhair         0.083682\n",
       "Unknown                   0.071130\n",
       "Domestic Mediumhair       0.062762\n",
       "Name: Breed, dtype: float64"
      ]
     },
     "execution_count": 37,
     "metadata": {},
     "output_type": "execute_result"
    }
   ],
   "source": [
    "catdf['Breed'].value_counts()/catdf['Breed'].value_counts().sum()"
   ]
  },
  {
   "cell_type": "code",
   "execution_count": 38,
   "id": "d3988f45",
   "metadata": {},
   "outputs": [
    {
     "data": {
      "text/plain": [
       "Male       0.569038\n",
       "Female     0.410042\n",
       "Unknown    0.016736\n",
       "Mixed      0.004184\n",
       "Name: Gender, dtype: float64"
      ]
     },
     "execution_count": 38,
     "metadata": {},
     "output_type": "execute_result"
    }
   ],
   "source": [
    "catdf['Gender'].value_counts()/catdf['Gender'].value_counts().sum()"
   ]
  },
  {
   "cell_type": "code",
   "execution_count": 39,
   "id": "cbd684ff",
   "metadata": {},
   "outputs": [
    {
     "data": {
      "text/plain": [
       "Unknown                   0.460251\n",
       "Recovered                 0.301255\n",
       "Ongoing                   0.163180\n",
       "Died                      0.054393\n",
       "Recovered with Sequela    0.012552\n",
       "Euthanized                0.008368\n",
       "Name: Status, dtype: float64"
      ]
     },
     "execution_count": 39,
     "metadata": {},
     "output_type": "execute_result"
    }
   ],
   "source": [
    "catdf['Status'].value_counts()/catdf['Status'].value_counts().sum()"
   ]
  },
  {
   "cell_type": "code",
   "execution_count": 40,
   "id": "a644c247",
   "metadata": {},
   "outputs": [
    {
     "data": {
      "text/plain": [
       "Selamectin                     0.301255\n",
       "Spinosad                       0.246862\n",
       "Fluralaner Spot-On Solution    0.112971\n",
       "Nitenpyram                     0.087866\n",
       "Imidacloprid                   0.075314\n",
       "Meloxicam                      0.062762\n",
       "Praziquantel                   0.062762\n",
       "Lufenuron                      0.050209\n",
       "Name: Drug, dtype: float64"
      ]
     },
     "execution_count": 40,
     "metadata": {},
     "output_type": "execute_result"
    }
   ],
   "source": [
    "catdf['Drug'].value_counts()/catdf['Drug'].value_counts().sum()"
   ]
  },
  {
   "cell_type": "markdown",
   "id": "a3183645",
   "metadata": {},
   "source": [
    "#### Categorical variables: visualizing proportions"
   ]
  },
  {
   "cell_type": "markdown",
   "id": "93e83a52",
   "metadata": {},
   "source": [
    "With the exception of age, the variables in this dataframe are nominal categorical ones. It's helpful to visualize each variable using a simple display. This sets the foundation for understanding more complicated displays. Since these variables are nominal, the best choice is a pie chart. We do this below:"
   ]
  },
  {
   "cell_type": "code",
   "execution_count": 41,
   "id": "747faec9",
   "metadata": {},
   "outputs": [
    {
     "data": {
      "text/plain": [
       "<AxesSubplot:ylabel='None'>"
      ]
     },
     "execution_count": 41,
     "metadata": {},
     "output_type": "execute_result"
    },
    {
     "data": {
      "image/png": "[encoded data removed]",
      "text/plain": [
       "<Figure size 432x288 with 1 Axes>"
      ]
     },
     "metadata": {},
     "output_type": "display_data"
    }
   ],
   "source": [
    "catdf.groupby('Gender').size().plot(kind='pie', autopct='%.2f')"
   ]
  },
  {
   "cell_type": "code",
   "execution_count": 42,
   "id": "d7cbea5c",
   "metadata": {},
   "outputs": [
    {
     "data": {
      "text/plain": [
       "<AxesSubplot:ylabel='None'>"
      ]
     },
     "execution_count": 42,
     "metadata": {},
     "output_type": "execute_result"
    },
    {
     "data": {
      "image/png": "[encoded data removed]",
      "text/plain": [
       "<Figure size 432x288 with 1 Axes>"
      ]
     },
     "metadata": {},
     "output_type": "display_data"
    }
   ],
   "source": [
    "catdf.groupby('Breed').size().plot(kind='pie', autopct='%.2f')"
   ]
  },
  {
   "cell_type": "code",
   "execution_count": 43,
   "id": "bcd3ba0f",
   "metadata": {},
   "outputs": [
    {
     "data": {
      "text/plain": [
       "<AxesSubplot:ylabel='None'>"
      ]
     },
     "execution_count": 43,
     "metadata": {},
     "output_type": "execute_result"
    },
    {
     "data": {
      "image/png": "[encoded data removed]",
      "text/plain": [
       "<Figure size 432x288 with 1 Axes>"
      ]
     },
     "metadata": {},
     "output_type": "display_data"
    }
   ],
   "source": [
    "catdf.groupby('Status').size().plot(kind='pie', autopct='%.2f')"
   ]
  },
  {
   "cell_type": "code",
   "execution_count": 44,
   "id": "a802fd50",
   "metadata": {},
   "outputs": [
    {
     "data": {
      "text/plain": [
       "<AxesSubplot:ylabel='None'>"
      ]
     },
     "execution_count": 44,
     "metadata": {},
     "output_type": "execute_result"
    },
    {
     "data": {
      "image/png": "[encoded data removed]",
      "text/plain": [
       "<Figure size 432x288 with 1 Axes>"
      ]
     },
     "metadata": {},
     "output_type": "display_data"
    }
   ],
   "source": [
    "catdf.groupby('Drug').size().plot(kind='pie', autopct='%.2f')"
   ]
  },
  {
   "cell_type": "markdown",
   "id": "db7c15d4",
   "metadata": {},
   "source": [
    "In summary, in this data set, the gender split is nearly 60/40 male/female. There's not a whole lot of variety regarding breed. Domestic Shorthairs comprise at minimum half of the sample. The Domestic Medium and Longhair categories account for less than 15% of the data. The balance is largely unspecified, and quite possibly Domestic Shorthair. Regarding outcomes, forty-six percent were unknown, thirty percent had recovered, and about 5% had died. Finally, of the drugs reported, the three most abundant were Selamectin (30%), Spinosad (almost 25%) and Fluralaner Spot-On Solution (11%). "
   ]
  },
  {
   "cell_type": "markdown",
   "id": "eba61a09",
   "metadata": {},
   "source": [
    "### CREATING VISUALIZATIONS TO EXPLORE QUESTIONS"
   ]
  },
  {
   "cell_type": "markdown",
   "id": "272f7c85",
   "metadata": {},
   "source": [
    "These data comprise reports of incidents where drug exposure resulted in adverse reactions in cats. We considered several questions:"
   ]
  },
  {
   "cell_type": "markdown",
   "id": "7a8ba4b4",
   "metadata": {},
   "source": [
    "### 1) What is the distribution of drug type among breeds? "
   ]
  },
  {
   "cell_type": "code",
   "execution_count": 45,
   "id": "47745b73",
   "metadata": {},
   "outputs": [
    {
     "data": {
      "image/png": "[encoded data removed]",
      "text/plain": [
       "<Figure size 1440x432 with 1 Axes>"
      ]
     },
     "metadata": {
      "needs_background": "light"
     },
     "output_type": "display_data"
    }
   ],
   "source": [
    "#create scatter plot\n",
    "\n",
    "catdf.plot( y='Breed', x='Drug', kind='scatter', figsize=(20,6))\n",
    "\n",
    "#create labels \n",
    "#plt.xlabel('x')\n",
    "#plt.ylabel('y')\n",
    " \n",
    "# display the title\n",
    "\n",
    "plt.title(\"Medications Reported as Producing an Adverse Reaction by Cat Breed 1988-2021\")\n",
    "\n",
    "#Rotate axis text\n",
    "plt.xticks(rotation=90, ha='right')\n",
    "#save image\n",
    "plt.savefig(\"Medications Reported as Producing an Adverse Reaction by Cat Breed 1988-2021.png\") \n",
    "#show plot\n",
    "plt.show()"
   ]
  },
  {
   "cell_type": "markdown",
   "id": "e311afb8",
   "metadata": {},
   "source": [
    "### 2) What is the relationship between age and death?"
   ]
  },
  {
   "cell_type": "code",
   "execution_count": 46,
   "id": "c02e6f37",
   "metadata": {},
   "outputs": [
    {
     "data": {
      "image/png": "[encoded data removed]",
      "text/plain": [
       "<Figure size 576x288 with 1 Axes>"
      ]
     },
     "metadata": {
      "needs_background": "light"
     },
     "output_type": "display_data"
    }
   ],
   "source": [
    "#sort data by deaths \n",
    "\n",
    "g=catdf[catdf[\"Status\"] == 'Died']\n",
    "\n",
    "#count deaths by age and sort order\n",
    "h=g[\"Age_y\"].value_counts().sort_index()\n",
    "#h\n",
    "#create bar graph\n",
    "h.plot(kind=\"bar\", x=\"age\", figsize=(8,4), color=\"red\")\n",
    "#create labels \n",
    "plt.xlabel('Age of Cat (Yrs)',color=\"blue\")\n",
    "plt.ylabel('# of Deaths',color=\"blue\" )\n",
    " \n",
    "# display the title\n",
    "plt.title(\"Number of Cat Deaths from Adverse Reactions by Age 1988-2021\")\n",
    "#plt.xticks(rotation=45, ha='right')\n",
    "#save image\n",
    "plt.savefig(\"Number of Cat Deaths by Age 1988-2021.png\") \n",
    "#show plot\n",
    "plt.show()"
   ]
  },
  {
   "cell_type": "markdown",
   "id": "2e4d0caf",
   "metadata": {},
   "source": [
    "### 3) Facet plot: relationships among breed, gender, drug, age, and outcome"
   ]
  },
  {
   "cell_type": "code",
   "execution_count": 47,
   "id": "94b4d285",
   "metadata": {},
   "outputs": [
    {
     "data": {
      "image/png": "[encoded data removed]",
      "text/plain": [
       "<Figure size 730.375x432 with 6 Axes>"
      ]
     },
     "metadata": {
      "needs_background": "light"
     },
     "output_type": "display_data"
    }
   ],
   "source": [
    "l = sns.FacetGrid(catdf, col=\"Status\", hue=\"Gender\", col_wrap=3)\n",
    "\n",
    "l.map(sns.scatterplot, \"Age_y\", \"Breed\")\n",
    "\n",
    "l.add_legend()\n",
    "plt.subplots_adjust(top=1.1)\n",
    "l.set_titles(\"{col_name}\")\n",
    "\n",
    "#l.fig.suptitle('Reported Cat Medication Reaction Outcomes by Breed and Age 1989-2021')\n",
    "#save image'Reported Cat Medication Reaction Outcomes by Breed and Age 1989-2021'\n",
    "plt.savefig(\"Reported Cat Medication Reaction Outcomes by Breed and Age 1989-2021.png\") \n",
    "plt.show()"
   ]
  },
  {
   "cell_type": "markdown",
   "id": "4a8cb94a",
   "metadata": {},
   "source": [
    "### 4) What is the relationship between age and the outcome of having recovered?"
   ]
  },
  {
   "cell_type": "code",
   "execution_count": 48,
   "id": "1eb0cd74",
   "metadata": {},
   "outputs": [
    {
     "data": {
      "image/png": "[encoded data removed]",
      "text/plain": [
       "<Figure size 576x288 with 1 Axes>"
      ]
     },
     "metadata": {
      "needs_background": "light"
     },
     "output_type": "display_data"
    }
   ],
   "source": [
    "#sort data by deaths \n",
    "g=catdf[catdf[\"Status\"] == 'Recovered']\n",
    "#count deaths by age and sort order\n",
    "h=g[\"Age_y\"].value_counts().sort_index()\n",
    "#h\n",
    "#create bar graph\n",
    "h.plot(kind=\"bar\", x=\"age\", figsize=(8,4), color=\"orange\")\n",
    "#create labels \n",
    "plt.xlabel('Age of Cat (Yrs)',color=\"green\")\n",
    "plt.ylabel('# of Cats that Recovered',color=\"green\" )\n",
    " \n",
    "# display the title\n",
    "plt.title(\"Number of Cats Recovered from Adverse Reactions by Age 1988-2021\")\n",
    "#plt.xticks(rotation=45, ha='right')\n",
    "#save image\n",
    "plt.savefig(\"Number of Cats Recovered from Adverse Reactions by Age 1988-2021.png\") \n",
    "#show plot\n",
    "plt.show()"
   ]
  },
  {
   "cell_type": "code",
   "execution_count": null,
   "id": "37dbc182",
   "metadata": {},
   "outputs": [],
   "source": [
    "## not sure how this one is different from the first one"
   ]
  },
  {
   "cell_type": "code",
   "execution_count": 52,
   "id": "5d058130",
   "metadata": {},
   "outputs": [
    {
     "data": {
      "image/png": "[encoded data removed]",
      "text/plain": [
       "<Figure size 730.375x432 with 6 Axes>"
      ]
     },
     "metadata": {
      "needs_background": "light"
     },
     "output_type": "display_data"
    }
   ],
   "source": [
    "l = sns.FacetGrid(catdf, col=\"Status\", hue=\"Gender\", col_wrap=3)\n",
    "\n",
    "l.map(sns.scatterplot, \"Age_y\", \"Breed\")\n",
    "\n",
    "l.add_legend()\n",
    "plt.subplots_adjust(top=1.1)\n",
    "l.set_titles(\"{col_name}\")\n",
    "\n",
    "#l.fig.suptitle('Reported Cat Medication Reaction Outcomes by Breed and Age 1989-2021')\n",
    "\n",
    "plt.show()"
   ]
  },
  {
   "cell_type": "markdown",
   "id": "80f6f12c",
   "metadata": {},
   "source": [
    "### 5) How was reaction to selamectin distributed across breed categories?"
   ]
  },
  {
   "cell_type": "code",
   "execution_count": 53,
   "id": "28875edb",
   "metadata": {},
   "outputs": [
    {
     "data": {
      "image/png": "[encoded data removed]",
      "text/plain": [
       "<Figure size 864x288 with 1 Axes>"
      ]
     },
     "metadata": {
      "needs_background": "light"
     },
     "output_type": "display_data"
    }
   ],
   "source": [
    "#sort data by deaths \n",
    "d=catdf[catdf[\"Drug\"] == 'Selamectin']\n",
    "q=catdf[catdf[\"Breed\"] == 'Domestic Shorthair']\n",
    "#count deaths by age and sort order\n",
    "m=d[\"Breed\"].value_counts()\n",
    "#h\n",
    "#create bar graph\n",
    "m.plot(x=\"Breed\", figsize=(12,4))\n",
    "#create labels \n",
    "plt.xlabel('Cat Type (Breed)')\n",
    "plt.ylabel('Count' )\n",
    "#plots df \"go-\" creates a green line with circles\n",
    "plt.plot(m, 'go-', linewidth=2)\n",
    "#tick marks\n",
    "plt.tick_params('y') \n",
    "# display the title\n",
    "plt.title(\"Number and Breed of Cats that Reported a Reaction to Selamectin  1988-2021\")\n",
    "plt.xticks(rotation=90)\n",
    "plt.savefig(\"Number and Breed of Cats that Reported a Reaction to Selamectin  1988-2021.png\") \n",
    "#show plot\n",
    "#plt.show()"
   ]
  },
  {
   "cell_type": "code",
   "execution_count": null,
   "id": "2e09ba13",
   "metadata": {},
   "outputs": [],
   "source": []
  }
 ],
 "metadata": {
  "kernelspec": {
   "display_name": "Python 3 (ipykernel)",
   "language": "python",
   "name": "python3"
  },
  "language_info": {
   "codemirror_mode": {
    "name": "ipython",
    "version": 3
   },
   "file_extension": ".py",
   "mimetype": "text/x-python",
   "name": "python",
   "nbconvert_exporter": "python",
   "pygments_lexer": "ipython3",
   "version": "3.9.7"
  }
 },
 "nbformat": 4,
 "nbformat_minor": 5
}
