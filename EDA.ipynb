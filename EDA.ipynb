{
 "cells": [
  {
   "cell_type": "code",
   "execution_count": 26,
   "id": "92240de6",
   "metadata": {},
   "outputs": [],
   "source": [
    "#Setup\n",
    "import matplotlib.pyplot as plt\n",
    "import pandas as pd\n",
    "import numpy as np\n",
    "import requests\n",
    "import time\n",
    "from pprint import pprint\n",
    "import seaborn as sns\n",
    "\n",
    "# Import API key\n",
    "from api_keys import api_key\n"
   ]
  },
  {
   "cell_type": "code",
   "execution_count": 25,
   "id": "b73ae47c",
   "metadata": {},
   "outputs": [
    {
     "name": "stdout",
     "output_type": "stream",
     "text": [
      "https://api.fda.gov/drug/event.json?api_key=0fdfT1NJAXmWmLkyv5eo5FxudzmyHCuO3dRwwVs0\n",
      "{'meta': {'disclaimer': 'Do not rely on openFDA to make decisions regarding medical care. While we make every effort to ensure that data is accurate, you should assume all results are unvalidated. We may limit or otherwise restrict your access to the API in line with our Terms of Service.', 'terms': 'https://open.fda.gov/terms/', 'license': 'https://open.fda.gov/license/', 'last_updated': '2021-10-27', 'results': {'skip': 0, 'limit': 1, 'total': 13703970}}, 'results': [{'receiptdateformat': '102', 'receiver': None, 'seriousnessdeath': '1', 'companynumb': 'JACAN16471', 'receivedateformat': '102', 'primarysource': {'reportercountry': 'CANADA', 'qualification': '3'}, 'transmissiondateformat': '102', 'fulfillexpeditecriteria': '1', 'safetyreportid': '5801206-7', 'sender': {'senderorganization': 'FDA-Public Use'}, 'receivedate': '20080707', 'patient': {'patientonsetage': '26', 'patientonsetageunit': '801', 'patientsex': '1', 'patientdeath': {'patientdeathdateformat': None, 'patientdeathdate': None}, 'reaction': [{'reactionmeddrapt': 'DRUG ADMINISTRATION ERROR'}, {'reactionmeddrapt': 'OVERDOSE'}], 'drug': [{'drugcharacterization': '1', 'medicinalproduct': 'DURAGESIC-100', 'drugauthorizationnumb': '019813', 'drugadministrationroute': '041', 'drugindication': 'DRUG ABUSE'}]}, 'transmissiondate': '20090109', 'serious': '1', 'receiptdate': '20080625'}]}\n"
     ]
    }
   ],
   "source": [
    "import json\n",
    "\n",
    "# creating api call from a city though url \n",
    "base_url = \"https://api.fda.gov/drug/event.json?api_key=\" + api_key\n",
    "\n",
    "#base_url=\"https://api.ers.usda.gov/data/arms/category?api_key=\" + api_key + \"&id=age,ftypll\"\n",
    "#https://api.ers.usda.gov/data/arms/farmtype?api_key=YOUR_API_KEY&name=operator+households\n",
    "# changing the output to json \n",
    "print(base_url)\n",
    "req = requests.get(base_url)\n",
    "data = req.json()\n",
    "print(data)"
   ]
  },
  {
   "cell_type": "code",
   "execution_count": null,
   "id": "343d2eaa",
   "metadata": {},
   "outputs": [],
   "source": []
  },
  {
   "cell_type": "code",
   "execution_count": null,
   "id": "2bfbd050",
   "metadata": {},
   "outputs": [],
   "source": []
  }
 ],
 "metadata": {
  "kernelspec": {
   "display_name": "Python 3 (ipykernel)",
   "language": "python",
   "name": "python3"
  },
  "language_info": {
   "codemirror_mode": {
    "name": "ipython",
    "version": 3
   },
   "file_extension": ".py",
   "mimetype": "text/x-python",
   "name": "python",
   "nbconvert_exporter": "python",
   "pygments_lexer": "ipython3",
   "version": "3.9.7"
  }
 },
 "nbformat": 4,
 "nbformat_minor": 5
}
